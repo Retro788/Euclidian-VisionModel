{
 "cells": [
  {
   "cell_type": "markdown",
   "id": "5e151774-fcfd-4fe1-b927-ecccfa5e0263",
   "metadata": {},
   "source": [
    "### 格式说明"
   ]
  },
  {
   "cell_type": "markdown",
   "id": "3f38c9cf-cd9c-4746-9fe4-8a53b5cf64a2",
   "metadata": {},
   "source": [
    "- VQA 的 json 格式   \n",
    "```json\n",
    "{\n",
    "  \"messages\": [\n",
    "    {\n",
    "      \"content\": \"<image>nHow would you describe the image to someone who cannot see it?\",\n",
    "      \"role\": \"user\"\n",
    "    },\n",
    "    {\n",
    "      \"content\": \"The image shows an aged envelope with a slightly creased and stained surface. On the top left corner, handwritten in ink is \\\"Gone Away\\\" with some illegible cursive scribbling beneath it. Two postage stamps from Palestine are affixed in the top right corner; one is valued at 5 mils and the other at 10 mils, both canceled with a postmark. The 5 mil stamp features a landscape with a building and palm trees, and the 10 mil stamp depicts the Tower of David. Below the stamps is a circular postmark from London E.C., dated \\\"1:30 PM 13 OC 39\\\". Addressed to \\\"Messrs. Walter, Berger & Co., 21-23 Farringdon Rd., London, E.C.1, ENGLAND\\\", the typeset is slightly faded. There is a rectangular purple stamp marked \\\"PARTI\\\" indicating that the addressee has departed. Overlapping the typed address and purple stamp is a watermark or promotional stamp in red, reading \\\"MORE AT Philatelyclub.com\\\".\",\n",
    "      \"role\": \"assistant\"\n",
    "    }\n",
    "  ],\n",
    "  \"images\": [\n",
    "    \"allava-caption-part1allava-caption-part117625.jpg\"\n",
    "  ]\n",
    "}\n",
    "```\n",
    "- S1"
   ]
  },
  {
   "cell_type": "markdown",
   "id": "d1631778-c48a-4080-b4b5-0eefe36311d1",
   "metadata": {},
   "source": [
    "### S1: 统计训练过程中转换为的 token 数"
   ]
  },
  {
   "cell_type": "markdown",
   "id": "dcb64723-4aa0-4202-afe0-cf9d3d9883eb",
   "metadata": {},
   "source": [
    "- 配置文件：参见 s1_config_vqa_pretrain_5M_8k.yaml 里面有详细说明\n",
    "- 执行：\n",
    "  `python s1_get_tokenlens_v2-sft.py --config ./configs/s1_config_vqa_pretrain_5M_8k.yaml`\n",
    "- 生成文件：token_info_v2_vqa_pretrain_5M_8k.txt，作为 S2 的输入"
   ]
  },
  {
   "cell_type": "markdown",
   "id": "e6a5ec62-cba5-4e51-bb3a-61b3b53adcdb",
   "metadata": {},
   "source": [
    "### S2：按设定的序列长度做 packing  "
   ]
  },
  {
   "cell_type": "markdown",
   "id": "bcd0a5bb-6e63-49bd-a397-857bc9e0de80",
   "metadata": {},
   "source": [
    "#### S2-1 整个数据集做 packing，输出 sample 分组 \n",
    "- `S2_hashbacket.ipynb`里面有一个示例流程，可以参考\n",
    "- 具体使用哪些策略，按什么样的顺序，需要结合实际数据集来调整"
   ]
  },
  {
   "cell_type": "markdown",
   "id": "164e3599-2e98-40c4-87ea-c854393eb307",
   "metadata": {},
   "source": [
    "#### S2-2 根据 S2-1 的结果处理数据，转换到打包前的装备状态\n",
    "使用示例：`python -u s2_prepare_rawsamples-vqa_5500k-16k-fast.py 2>&1 | tee ./logs/s2_proc_vqa_5500k-16k-fast.log`\n",
    "python 里面会有输出路径，S3 要使用这个路径"
   ]
  },
  {
   "cell_type": "markdown",
   "id": "dd98f556-4d28-418c-b654-ae82a78892c7",
   "metadata": {},
   "source": [
    "### S3：打包成 energon 格式数据"
   ]
  },
  {
   "cell_type": "markdown",
   "id": "4ed0df86-a65d-4d0d-b529-86a9f267b0e5",
   "metadata": {},
   "source": [
    "这个已经在脚本里写好了，如何调用参考 `token_info_v2_emova_3000tk.txt`,改一下路径即可"
   ]
  },
  {
   "cell_type": "markdown",
   "id": "d71bc19c-b33b-4240-8fd3-cf0aad0166e1",
   "metadata": {},
   "source": []
  }
 ],
 "metadata": {
  "kernelspec": {
   "display_name": "Python 3 (ipykernel)",
   "language": "python",
   "name": "python3"
  },
  "language_info": {
   "codemirror_mode": {
    "name": "ipython",
    "version": 3
   },
   "file_extension": ".py",
   "mimetype": "text/x-python",
   "name": "python",
   "nbconvert_exporter": "python",
   "pygments_lexer": "ipython3",
   "version": "3.12.3"
  }
 },
 "nbformat": 4,
 "nbformat_minor": 5
}
