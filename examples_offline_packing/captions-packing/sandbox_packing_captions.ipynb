{
 "cells": [
  {
   "cell_type": "markdown",
   "id": "1b37cd39-6153-489a-86d0-8f3bca886723",
   "metadata": {
    "jp-MarkdownHeadingCollapsed": true
   },
   "source": [
    "### Step2-1"
   ]
  },
  {
   "cell_type": "code",
   "execution_count": 14,
   "id": "9416441b-811e-489e-bc70-480758704642",
   "metadata": {
    "collapsed": true,
    "jupyter": {
     "outputs_hidden": true,
     "source_hidden": true
    }
   },
   "outputs": [
    {
     "name": "stderr",
     "output_type": "stream",
     "text": [
      "2025-09-29 17:48:35,219 - INFO - 开始处理文件，总行数: 299980\n",
      "构建哈希桶: 100%|██████████████████████████████████████████████████████████████████████████| 299980/299980 [00:02<00:00, 108709.82行/s]\n",
      "2025-09-29 17:48:37,999 - INFO - 找到 10 个有效的桶键\n",
      "2025-09-29 17:48:38,147 - INFO - 当前箱子没有满: 8184\n",
      "2025-09-29 17:48:38,153 - INFO - 当前箱子元素: [(0, 8, 'k12_k12_6591'), (0, 16, 'k12_k12_109024'), (0, 32, 'k12_k12_108057'), (0, 64, 'k12_k12_127776'), (0, 128, 'mmc-caption_mmc-caption_215440'), (0, 256, 'mmc-caption_mmc-caption_231921'), (0, 512, 'mmc-caption_mmc-caption_249228'), (0, 1024, 'mmc-caption_mmc-caption_17919'), (0, 2048, 'allava-caption-part1_allava-caption-part1_94401'), (0, 8, 'k12_k12_90539'), (0, 16, 'k12_k12_109347'), (0, 32, 'k12_k12_108667'), (0, 64, 'k12_k12_129531'), (0, 128, 'mmc-caption_mmc-caption_218983'), (0, 256, 'mmc-caption_mmc-caption_233126'), (0, 512, 'mmc-caption_mmc-caption_295176'), (0, 1024, 'mmc-caption_mmc-caption_19964'), (0, 2048, 'allava-caption-zh-part2_allava-caption-zh-part2_2758'), (0, 8, 'k12_k12_9216')]\n",
      "2025-09-29 17:48:38,193 - INFO - 当前箱子没有满: 6816\n",
      "2025-09-29 17:48:38,200 - INFO - 当前箱子元素: [(0, 32, 'k12_k12_73467'), (0, 1024, 'ureader-text-reading_ureader-text-reading_95370'), (0, 32, 'k12_k12_73505'), (0, 1024, 'ureader-text-reading_ureader-text-reading_97686'), (0, 32, 'k12_k12_73704'), (0, 1024, 'ureader-text-reading_ureader-text-reading_99868'), (0, 32, 'k12_k12_74340'), (0, 32, 'k12_k12_7476'), (0, 32, 'k12_k12_75190'), (0, 32, 'k12_k12_75401'), (0, 32, 'k12_k12_75532'), (0, 32, 'k12_k12_75765'), (0, 32, 'k12_k12_75924'), (0, 32, 'k12_k12_75928'), (0, 32, 'k12_k12_76163'), (0, 32, 'k12_k12_76157'), (0, 32, 'k12_k12_7625'), (0, 32, 'k12_k12_76558'), (0, 32, 'k12_k12_76674'), (0, 32, 'k12_k12_76663'), (0, 32, 'k12_k12_77171'), (0, 32, 'k12_k12_77713'), (0, 32, 'k12_k12_77695'), (0, 32, 'k12_k12_7824'), (0, 32, 'k12_k12_78213'), (0, 32, 'k12_k12_78720'), (0, 32, 'k12_k12_78863'), (0, 32, 'k12_k12_79592'), (0, 32, 'k12_k12_79923'), (0, 32, 'k12_k12_79855'), (0, 32, 'k12_k12_80197'), (0, 32, 'k12_k12_80673'), (0, 32, 'k12_k12_80837'), (0, 32, 'k12_k12_81120'), (0, 32, 'k12_k12_81114'), (0, 32, 'k12_k12_81243'), (0, 32, 'k12_k12_81438'), (0, 32, 'k12_k12_81608'), (0, 32, 'k12_k12_81887'), (0, 32, 'k12_k12_82332'), (0, 32, 'k12_k12_82214'), (0, 32, 'k12_k12_82545'), (0, 32, 'k12_k12_828'), (0, 32, 'k12_k12_82580'), (0, 32, 'k12_k12_82944'), (0, 32, 'k12_k12_83282'), (0, 32, 'k12_k12_83296'), (0, 32, 'k12_k12_83313'), (0, 32, 'k12_k12_83426'), (0, 32, 'k12_k12_84077'), (0, 32, 'k12_k12_84214'), (0, 32, 'k12_k12_84331'), (0, 32, 'k12_k12_847'), (0, 32, 'k12_k12_85077'), (0, 32, 'k12_k12_86103'), (0, 32, 'k12_k12_86535'), (0, 32, 'k12_k12_86406'), (0, 32, 'k12_k12_86537'), (0, 32, 'k12_k12_86646'), (0, 32, 'k12_k12_86704'), (0, 32, 'k12_k12_86911'), (0, 32, 'k12_k12_87091'), (0, 32, 'k12_k12_87910'), (0, 32, 'k12_k12_87827'), (0, 32, 'k12_k12_88120'), (0, 32, 'k12_k12_8881'), (0, 32, 'k12_k12_88610'), (0, 32, 'k12_k12_88879'), (0, 32, 'k12_k12_8891'), (0, 32, 'k12_k12_89752'), (0, 32, 'k12_k12_90067'), (0, 32, 'k12_k12_90046'), (0, 32, 'k12_k12_100064'), (0, 32, 'k12_k12_100696'), (0, 32, 'k12_k12_101192'), (0, 32, 'k12_k12_101140'), (0, 32, 'k12_k12_101142'), (0, 32, 'k12_k12_101732'), (0, 32, 'k12_k12_101780'), (0, 32, 'k12_k12_101890'), (0, 32, 'k12_k12_102303'), (0, 32, 'k12_k12_102438'), (0, 32, 'k12_k12_102618'), (0, 32, 'k12_k12_103160'), (0, 32, 'k12_k12_103798'), (0, 32, 'k12_k12_105534'), (0, 32, 'k12_k12_10549'), (0, 32, 'k12_k12_105776'), (0, 32, 'k12_k12_105769'), (0, 32, 'k12_k12_105839'), (0, 32, 'k12_k12_105935'), (0, 32, 'k12_k12_106013'), (0, 32, 'k12_k12_90193'), (0, 32, 'k12_k12_90791'), (0, 32, 'k12_k12_90978'), (0, 32, 'k12_k12_91102'), (0, 32, 'k12_k12_91332'), (0, 32, 'k12_k12_91338'), (0, 32, 'k12_k12_91412'), (0, 32, 'k12_k12_9188'), (0, 32, 'k12_k12_91890'), (0, 32, 'k12_k12_92265'), (0, 32, 'k12_k12_9363'), (0, 32, 'k12_k12_93680'), (0, 32, 'k12_k12_93935'), (0, 32, 'k12_k12_9406'), (0, 32, 'k12_k12_94083'), (0, 32, 'k12_k12_9417'), (0, 32, 'k12_k12_94222'), (0, 32, 'k12_k12_94430'), (0, 32, 'k12_k12_95098'), (0, 32, 'k12_k12_94907'), (0, 32, 'k12_k12_9553'), (0, 32, 'k12_k12_9563'), (0, 32, 'k12_k12_96942'), (0, 32, 'k12_k12_98420'), (0, 32, 'k12_k12_98978'), (0, 32, 'k12_k12_99194'), (0, 32, 'k12_k12_99827'), (0, 32, 'k12_k12_99904')]\n"
     ]
    },
    {
     "name": "stdout",
     "output_type": "stream",
     "text": [
      "=== 哈希桶处理摘要 ===\n",
      "哈希桶数量: 5860\n",
      "总数据项: 299980\n",
      "内存占用: 0.07 GB\n",
      "有效桶键: [0, []]\n",
      "处理行数: 299980\n",
      "=== 哈希桶处理摘要 ===\n",
      "哈希桶数量: 5860\n",
      "总数据项: 299980\n",
      "内存占用: 0.07 GB\n",
      "有效桶键: [10, [4096, 2048, 1024, 512, 256, 128, 64, 32, 16, 8]]\n",
      "处理行数: 299980\n",
      "========================================================================================================================================================================\n",
      "-------------------- initial_summary ----------------------\n",
      "{'basic': {'empty_keys': 0,\n",
      "           'non_empty_keys': 5860,\n",
      "           'total_items': 299980,\n",
      "           'total_keys': 5860},\n",
      " 'items_by_size': {'large': 0, 'medium': 32706, 'small': 267274},\n",
      " 'memory_usage': 78442160,\n",
      " 'size_distribution': {'large': 0, 'medium': 3820, 'small': 2040}}\n",
      "save checkpoint........\n",
      "当前哈希桶状态:\n",
      "  📦 总元素数: 299980\n",
      "  🔑 总key数: 5860\n",
      "  📊 分布情况:\n",
      "    small: 267274 个元素\n",
      "    medium: 32706 个元素\n",
      "剩余的key及其元素数量：(keys, nums):([2048, 1024, 512, 256, 128, 64, 32, 16, 8],[34, 241, 136, 122, 69, 148, 730, 414, 3])\n",
      "num of left_elems:[34, 241, 136, 122, 69, 148, 730, 414, 3]\n"
     ]
    },
    {
     "name": "stderr",
     "output_type": "stream",
     "text": [
      "2025-09-29 17:48:38,231 - INFO - 清理空key: 删除了 7 个空key\n",
      "2025-09-29 17:48:38,232 - INFO - 哈希桶更新完成:\n",
      "2025-09-29 17:48:38,233 - INFO -   📊 Key数量: 5860 → 5853\n",
      "2025-09-29 17:48:38,233 - INFO -   📦 元素总数: 298155 → 298155\n",
      "2025-09-29 17:48:38,233 - INFO -   🗑️  删除空key: 7\n"
     ]
    },
    {
     "name": "stdout",
     "output_type": "stream",
     "text": [
      "剩余的key及其元素数量：(keys, nums):([1024, 32, 8],[3, 117, 3])\n",
      "num of left_elems:[3, 117, 3]\n",
      "当前哈希桶状态:\n",
      "  📦 总元素数: 298155\n",
      "  🔑 总key数: 5853\n",
      "  📊 分布情况:\n",
      "    small: 265489 个元素\n",
      "    medium: 32666 个元素\n",
      "\n",
      "更新分析:\n",
      "Number of deleted keys: 7\n",
      "Number of deleted elements: 0\n",
      "Number of remaining keys: 5853\n",
      "save checkpoint........\n",
      "当前哈希桶状态:\n",
      "  📦 总元素数: 298155\n",
      "  🔑 总key数: 5853\n",
      "  📊 分布情况:\n",
      "    small: 265489 个元素\n",
      "    medium: 32666 个元素\n"
     ]
    },
    {
     "name": "stderr",
     "output_type": "stream",
     "text": [
      "2025-09-29 17:48:38,461 - INFO - 种子策略: custom_half\n",
      "2025-09-29 17:48:38,462 - INFO - 策略参数: {'half': 4096}\n",
      "2025-09-29 17:48:38,462 - INFO -   🌱 种子keys(max): 7957\n",
      "2025-09-29 17:48:38,462 - INFO -   🔧 填充keys数量: 3998\n",
      "2025-09-29 17:48:40,457 - INFO - 种子筛选完成:\n",
      "2025-09-29 17:48:40,458 - INFO -   📊 总种子数: 10152\n",
      "2025-09-29 17:48:40,463 - INFO -   🎯 筛选后: 10152\n",
      "2025-09-29 17:48:40,465 - INFO -   🚀 筛选率: 100.0%\n",
      "2025-09-29 17:48:40,465 - INFO -   🔧 线程数: 128\n",
      "2025-09-29 17:48:40,466 - INFO -   📦 约束: 容量≥95%, 物品≥5个\n",
      "2025-09-29 17:48:40,468 - INFO - 初始资源状态:\n",
      "2025-09-29 17:48:40,468 - INFO -   🗂️ 小元素总数: 288003\n",
      "2025-09-29 17:48:40,469 - INFO -   🔑 可用小key种类: 3998\n",
      "多约束装箱(成功:10093, 成功率:99.8%, 剩余:234365): 100%|██████████████████████████████████████| 10152/10152 [01:21<00:00, 124.10seed/s]seed/s]\n",
      "2025-09-29 17:50:03,576 - INFO - 🎉 多约束装箱完成!\n",
      "2025-09-29 17:50:03,577 - INFO - 📊 执行统计:\n",
      "2025-09-29 17:50:03,577 - INFO -   ⏱️  总耗时: 83.10秒\n",
      "2025-09-29 17:50:03,578 - INFO -   🎯 处理种子: 10152\n",
      "2025-09-29 17:50:03,578 - INFO -   📦 成功箱子: 10133\n",
      "2025-09-29 17:50:03,578 - INFO -   📈 总成功率: 99.81%\n",
      "2025-09-29 17:50:03,578 - INFO - 📦 装箱质量:\n",
      "2025-09-29 17:50:03,579 - INFO -   📊 平均装载率: 99.9%\n",
      "2025-09-29 17:50:03,579 - INFO -   🔢 平均物品数: 6.3\n",
      "2025-09-29 17:50:03,580 - INFO -   📉 物品数范围: 5-7\n",
      "2025-09-29 17:50:03,580 - INFO -   💾 总打包物品: 63823\n",
      "2025-09-29 17:50:03,580 - INFO - 🔗 剩余资源:\n",
      "2025-09-29 17:50:03,580 - INFO -   🗂️ 小元素: 234313\n",
      "2025-09-29 17:50:03,581 - INFO -   🔑 可用key类型: 2819\n",
      "2025-09-29 17:50:03,581 - INFO - ❌ 失败分析:\n",
      "2025-09-29 17:50:03,581 - INFO -      装载率不足: 1次 (0.0%)\n",
      "2025-09-29 17:50:03,582 - INFO -      可行性检查失败: 18次 (0.2%)\n",
      "2025-09-29 17:50:03,655 - INFO - 清理空key: 删除了 3015 个空key\n",
      "2025-09-29 17:50:03,656 - INFO - 哈希桶更新完成:\n",
      "2025-09-29 17:50:03,657 - INFO -   📊 Key数量: 5853 → 2838\n",
      "2025-09-29 17:50:03,657 - INFO -   📦 元素总数: 234332 → 234332\n",
      "2025-09-29 17:50:03,657 - INFO -   🗑️  删除空key: 3015\n",
      "2025-09-29 17:50:03,719 - INFO - 种子策略: custom_half\n",
      "2025-09-29 17:50:03,721 - INFO - 策略参数: {'half': 7000}\n",
      "2025-09-29 17:50:03,721 - INFO -   🌱 种子keys(max): 7957\n",
      "2025-09-29 17:50:03,722 - INFO -   🔧 填充keys数量: 2820\n",
      "2025-09-29 17:50:03,734 - INFO - 种子筛选完成:\n",
      "2025-09-29 17:50:03,735 - INFO -   📊 总种子数: 18\n",
      "2025-09-29 17:50:03,735 - INFO -   🎯 筛选后: 18\n",
      "2025-09-29 17:50:03,735 - INFO -   🚀 筛选率: 100.0%\n",
      "2025-09-29 17:50:03,736 - INFO -   🔧 线程数: 128\n",
      "2025-09-29 17:50:03,736 - INFO -   📦 约束: 容量≥94%, 物品≥1个\n",
      "2025-09-29 17:50:03,737 - INFO - 初始资源状态:\n",
      "2025-09-29 17:50:03,737 - INFO -   🗂️ 小元素总数: 234314\n",
      "2025-09-29 17:50:03,738 - INFO -   🔑 可用小key种类: 2820\n"
     ]
    },
    {
     "name": "stdout",
     "output_type": "stream",
     "text": [
      "当前哈希桶状态:\n",
      "  📦 总元素数: 234332\n",
      "  🔑 总key数: 2838\n",
      "  📊 分布情况:\n",
      "    small: 220089 个元素\n",
      "    medium: 14243 个元素\n",
      "\n",
      "更新分析:\n",
      "Number of deleted keys: 3015\n",
      "Number of deleted elements: 0\n",
      "Number of remaining keys: 2838\n",
      "save checkpoint........\n",
      "当前哈希桶状态:\n",
      "  📦 总元素数: 234332\n",
      "  🔑 总key数: 2838\n",
      "  📊 分布情况:\n",
      "    small: 220089 个元素\n",
      "    medium: 14243 个元素\n"
     ]
    },
    {
     "name": "stderr",
     "output_type": "stream",
     "text": [
      "多约束装箱: 100%|█████████████████████████████████████████████████████████████████████████████████| 18/18 [00:00<00:00, 95566.42seed/s]\n",
      "2025-09-29 17:50:03,749 - INFO - 🎉 多约束装箱完成!\n",
      "2025-09-29 17:50:03,749 - INFO - 📊 执行统计:\n",
      "2025-09-29 17:50:03,749 - INFO -   ⏱️  总耗时: 0.01秒\n",
      "2025-09-29 17:50:03,750 - INFO -   🎯 处理种子: 18\n",
      "2025-09-29 17:50:03,750 - INFO -   📦 成功箱子: 18\n",
      "2025-09-29 17:50:03,750 - INFO -   📈 总成功率: 100.00%\n",
      "2025-09-29 17:50:03,751 - INFO - 📦 装箱质量:\n",
      "2025-09-29 17:50:03,751 - INFO -   📊 平均装载率: 99.8%\n",
      "2025-09-29 17:50:03,751 - INFO -   🔢 平均物品数: 1.9\n",
      "2025-09-29 17:50:03,752 - INFO -   📉 物品数范围: 1-2\n",
      "2025-09-29 17:50:03,752 - INFO -   💾 总打包物品: 35\n",
      "2025-09-29 17:50:03,752 - INFO - 🔗 剩余资源:\n",
      "2025-09-29 17:50:03,753 - INFO -   🗂️ 小元素: 234297\n",
      "2025-09-29 17:50:03,753 - INFO -   🔑 可用key类型: 2820\n",
      "2025-09-29 17:50:03,763 - INFO - 清理空key: 删除了 18 个空key\n",
      "2025-09-29 17:50:03,764 - INFO - 哈希桶更新完成:\n",
      "2025-09-29 17:50:03,764 - INFO -   📊 Key数量: 2838 → 2820\n",
      "2025-09-29 17:50:03,764 - INFO -   📦 元素总数: 234297 → 234297\n",
      "2025-09-29 17:50:03,765 - INFO -   🗑️  删除空key: 18\n",
      "2025-09-29 17:50:03,845 - INFO - 种子策略: custom_half\n",
      "2025-09-29 17:50:03,846 - INFO - 策略参数: {'half': 2000}\n",
      "2025-09-29 17:50:03,846 - INFO -   🌱 种子keys(max): 4908\n",
      "2025-09-29 17:50:03,847 - INFO -   🔧 填充keys数量: 1758\n"
     ]
    },
    {
     "name": "stdout",
     "output_type": "stream",
     "text": [
      "当前哈希桶状态:\n",
      "  📦 总元素数: 234297\n",
      "  🔑 总key数: 2820\n",
      "  📊 分布情况:\n",
      "    small: 220072 个元素\n",
      "    medium: 14225 个元素\n",
      "\n",
      "更新分析:\n",
      "Number of deleted keys: 18\n",
      "Number of deleted elements: 0\n",
      "Number of remaining keys: 2820\n",
      "save checkpoint........\n",
      "当前哈希桶状态:\n",
      "  📦 总元素数: 234297\n",
      "  🔑 总key数: 2820\n",
      "  📊 分布情况:\n",
      "    small: 220072 个元素\n",
      "    medium: 14225 个元素\n"
     ]
    },
    {
     "name": "stderr",
     "output_type": "stream",
     "text": [
      "2025-09-29 17:50:04,350 - INFO - 种子筛选完成:\n",
      "2025-09-29 17:50:04,352 - INFO -   📊 总种子数: 16313\n",
      "2025-09-29 17:50:04,352 - INFO -   🎯 筛选后: 16313\n",
      "2025-09-29 17:50:04,352 - INFO -   🚀 筛选率: 100.0%\n",
      "2025-09-29 17:50:04,353 - INFO -   🔧 线程数: 128\n",
      "2025-09-29 17:50:04,353 - INFO -   📦 约束: 容量≥94%, 物品≥4个\n",
      "2025-09-29 17:50:04,354 - INFO - 初始资源状态:\n",
      "2025-09-29 17:50:04,355 - INFO -   🗂️ 小元素总数: 217984\n",
      "2025-09-29 17:50:04,355 - INFO -   🔑 可用小key种类: 1758\n",
      "多约束装箱(成功:16305, 成功率:100.0%, 剩余:121163): 100%|█████████████████████████████████████| 16313/16313 [00:37<00:00, 433.28seed/s]seed/s]\n",
      "2025-09-29 17:50:43,720 - INFO - 🎉 多约束装箱完成!\n",
      "2025-09-29 17:50:43,720 - INFO - 📊 执行统计:\n",
      "2025-09-29 17:50:43,720 - INFO -   ⏱️  总耗时: 39.36秒\n",
      "2025-09-29 17:50:43,721 - INFO -   🎯 处理种子: 16313\n",
      "2025-09-29 17:50:43,721 - INFO -   📦 成功箱子: 16313\n",
      "2025-09-29 17:50:43,721 - INFO -   📈 总成功率: 100.00%\n",
      "2025-09-29 17:50:43,721 - INFO - 📦 装箱质量:\n",
      "2025-09-29 17:50:43,721 - INFO -   📊 平均装载率: 100.0%\n",
      "2025-09-29 17:50:43,722 - INFO -   🔢 平均物品数: 6.9\n",
      "2025-09-29 17:50:43,722 - INFO -   📉 物品数范围: 6-7\n",
      "2025-09-29 17:50:43,722 - INFO -   💾 总打包物品: 113138\n",
      "2025-09-29 17:50:43,723 - INFO - 🔗 剩余资源:\n",
      "2025-09-29 17:50:43,723 - INFO -   🗂️ 小元素: 121159\n",
      "2025-09-29 17:50:43,723 - INFO -   🔑 可用key类型: 812\n",
      "2025-09-29 17:50:43,790 - INFO - 清理空key: 删除了 2008 个空key\n",
      "2025-09-29 17:50:43,791 - INFO - 哈希桶更新完成:\n",
      "2025-09-29 17:50:43,791 - INFO -   📊 Key数量: 2820 → 812\n",
      "2025-09-29 17:50:43,791 - INFO -   📦 元素总数: 121159 → 121159\n",
      "2025-09-29 17:50:43,792 - INFO -   🗑️  删除空key: 2008\n",
      "2025-09-29 17:50:43,814 - INFO - 种子策略: top_n\n",
      "2025-09-29 17:50:43,814 - INFO - 策略参数: {'n': 60}\n",
      "2025-09-29 17:50:43,815 - INFO -   🌱 种子keys(max): 1448\n",
      "2025-09-29 17:50:43,815 - INFO -   🔧 填充keys数量: 752\n",
      "2025-09-29 17:50:43,830 - INFO - 种子筛选完成:\n",
      "2025-09-29 17:50:43,831 - INFO -   📊 总种子数: 7187\n",
      "2025-09-29 17:50:43,831 - INFO -   🎯 筛选后: 7187\n",
      "2025-09-29 17:50:43,831 - INFO -   🚀 筛选率: 100.0%\n",
      "2025-09-29 17:50:43,831 - INFO -   🔧 线程数: 128\n",
      "2025-09-29 17:50:43,832 - INFO -   📦 约束: 容量≥92%, 物品≥6个\n",
      "2025-09-29 17:50:43,832 - INFO - 初始资源状态:\n",
      "2025-09-29 17:50:43,833 - INFO -   🗂️ 小元素总数: 113972\n",
      "2025-09-29 17:50:43,833 - INFO -   🔑 可用小key种类: 752\n"
     ]
    },
    {
     "name": "stdout",
     "output_type": "stream",
     "text": [
      "当前哈希桶状态:\n",
      "  📦 总元素数: 121159\n",
      "  🔑 总key数: 812\n",
      "  📊 分布情况:\n",
      "    small: 121159 个元素\n",
      "    medium: 0 个元素\n",
      "\n",
      "更新分析:\n",
      "Number of deleted keys: 2008\n",
      "Number of deleted elements: 0\n",
      "Number of remaining keys: 812\n",
      "save checkpoint........\n",
      "当前哈希桶状态:\n",
      "  📦 总元素数: 121159\n",
      "  🔑 总key数: 812\n",
      "  📊 分布情况:\n",
      "    small: 121159 个元素\n"
     ]
    },
    {
     "name": "stderr",
     "output_type": "stream",
     "text": [
      "多约束装箱(成功:7049, 成功率:99.2%, 剩余:64414): 100%|██████████████████████████████████████████| 7187/7187 [00:10<00:00, 704.13seed/s]seed/s]\n",
      "2025-09-29 17:50:55,706 - INFO - 🎉 多约束装箱完成!\n",
      "2025-09-29 17:50:55,706 - INFO - 📊 执行统计:\n",
      "2025-09-29 17:50:55,706 - INFO -   ⏱️  总耗时: 11.87秒\n",
      "2025-09-29 17:50:55,707 - INFO -   🎯 处理种子: 7187\n",
      "2025-09-29 17:50:55,707 - INFO -   📦 成功箱子: 7078\n",
      "2025-09-29 17:50:55,707 - INFO -   📈 总成功率: 98.48%\n",
      "2025-09-29 17:50:55,707 - INFO - 📦 装箱质量:\n",
      "2025-09-29 17:50:55,707 - INFO -   📊 平均装载率: 99.2%\n",
      "2025-09-29 17:50:55,708 - INFO -   🔢 平均物品数: 8.0\n",
      "2025-09-29 17:50:55,708 - INFO -   📉 物品数范围: 8-8\n",
      "2025-09-29 17:50:55,708 - INFO -   💾 总打包物品: 56624\n",
      "2025-09-29 17:50:55,709 - INFO - 🔗 剩余资源:\n",
      "2025-09-29 17:50:55,709 - INFO -   🗂️ 小元素: 64426\n",
      "2025-09-29 17:50:55,709 - INFO -   🔑 可用key类型: 475\n",
      "2025-09-29 17:50:55,709 - INFO - ❌ 失败分析:\n",
      "2025-09-29 17:50:55,710 - INFO -      装载率不足: 109次 (1.5%)\n",
      "2025-09-29 17:50:55,734 - INFO - 清理空key: 删除了 334 个空key\n",
      "2025-09-29 17:50:55,735 - INFO - 哈希桶更新完成:\n",
      "2025-09-29 17:50:55,735 - INFO -   📊 Key数量: 812 → 478\n",
      "2025-09-29 17:50:55,735 - INFO -   📦 元素总数: 64535 → 64535\n",
      "2025-09-29 17:50:55,736 - INFO -   🗑️  删除空key: 334\n",
      "2025-09-29 17:50:55,742 - INFO - 种子策略: top_n\n",
      "2025-09-29 17:50:55,743 - INFO - 策略参数: {'n': 50}\n",
      "2025-09-29 17:50:55,743 - INFO -   🌱 种子keys(max): 1329\n",
      "2025-09-29 17:50:55,743 - INFO -   🔧 填充keys数量: 428\n",
      "2025-09-29 17:50:55,751 - INFO - 种子筛选完成:\n",
      "2025-09-29 17:50:55,751 - INFO -   📊 总种子数: 5652\n",
      "2025-09-29 17:50:55,751 - INFO -   🎯 筛选后: 5652\n",
      "2025-09-29 17:50:55,751 - INFO -   🚀 筛选率: 100.0%\n",
      "2025-09-29 17:50:55,752 - INFO -   🔧 线程数: 128\n",
      "2025-09-29 17:50:55,752 - INFO -   📦 约束: 容量≥92%, 物品≥6个\n",
      "2025-09-29 17:50:55,752 - INFO - 初始资源状态:\n",
      "2025-09-29 17:50:55,752 - INFO -   🗂️ 小元素总数: 58883\n",
      "2025-09-29 17:50:55,753 - INFO -   🔑 可用小key种类: 428\n"
     ]
    },
    {
     "name": "stdout",
     "output_type": "stream",
     "text": [
      "当前哈希桶状态:\n",
      "  📦 总元素数: 64535\n",
      "  🔑 总key数: 478\n",
      "  📊 分布情况:\n",
      "    small: 64535 个元素\n",
      "\n",
      "更新分析:\n",
      "Number of deleted keys: 334\n",
      "Number of deleted elements: 0\n",
      "Number of remaining keys: 478\n",
      "save checkpoint........\n",
      "当前哈希桶状态:\n",
      "  📦 总元素数: 64535\n",
      "  🔑 总key数: 478\n",
      "  📊 分布情况:\n",
      "    small: 64535 个元素\n"
     ]
    },
    {
     "name": "stderr",
     "output_type": "stream",
     "text": [
      "多约束装箱(成功:987, 成功率:17.6%, 剩余:51817): 100%|███████████████████████████████████████████| 5652/5652 [00:11<00:00, 477.04seed/s]seed/s]\n",
      "2025-09-29 17:51:08,087 - INFO - 🎉 多约束装箱完成!\n",
      "2025-09-29 17:51:08,087 - INFO - 📊 执行统计:\n",
      "2025-09-29 17:51:08,087 - INFO -   ⏱️  总耗时: 12.33秒\n",
      "2025-09-29 17:51:08,088 - INFO -   🎯 处理种子: 5652\n",
      "2025-09-29 17:51:08,088 - INFO -   📦 成功箱子: 992\n",
      "2025-09-29 17:51:08,088 - INFO -   📈 总成功率: 17.55%\n",
      "2025-09-29 17:51:08,088 - INFO - 📦 装箱质量:\n",
      "2025-09-29 17:51:08,088 - INFO -   📊 平均装载率: 100.0%\n",
      "2025-09-29 17:51:08,089 - INFO -   🔢 平均物品数: 8.0\n",
      "2025-09-29 17:51:08,089 - INFO -   📉 物品数范围: 8-8\n",
      "2025-09-29 17:51:08,089 - INFO -   💾 总打包物品: 7936\n",
      "2025-09-29 17:51:08,089 - INFO - 🔗 剩余资源:\n",
      "2025-09-29 17:51:08,089 - INFO -   🗂️ 小元素: 51939\n",
      "2025-09-29 17:51:08,090 - INFO -   🔑 可用key类型: 389\n",
      "2025-09-29 17:51:08,090 - INFO - ❌ 失败分析:\n",
      "2025-09-29 17:51:08,091 - INFO -      装载率不足: 4660次 (82.4%)\n",
      "2025-09-29 17:51:08,105 - INFO - 清理空key: 删除了 46 个空key\n",
      "2025-09-29 17:51:08,106 - INFO - 哈希桶更新完成:\n",
      "2025-09-29 17:51:08,106 - INFO -   📊 Key数量: 478 → 432\n",
      "2025-09-29 17:51:08,106 - INFO -   📦 元素总数: 56599 → 56599\n",
      "2025-09-29 17:51:08,106 - INFO -   🗑️  删除空key: 46\n"
     ]
    },
    {
     "name": "stdout",
     "output_type": "stream",
     "text": [
      "当前哈希桶状态:\n",
      "  📦 总元素数: 56599\n",
      "  🔑 总key数: 432\n",
      "  📊 分布情况:\n",
      "    small: 56599 个元素\n",
      "\n",
      "更新分析:\n",
      "Number of deleted keys: 46\n",
      "Number of deleted elements: 0\n",
      "Number of remaining keys: 432\n",
      "save checkpoint........\n",
      "当前哈希桶状态:\n",
      "  📦 总元素数: 56599\n",
      "  🔑 总key数: 432\n",
      "  📊 分布情况:\n",
      "    small: 56599 个元素\n"
     ]
    },
    {
     "name": "stderr",
     "output_type": "stream",
     "text": [
      "2025-09-29 17:51:48,315 - INFO - pack_simplest_strategy 完成：多线程任务 56599，成功 8112，兜底输出 0 箱\n",
      "2025-09-29 17:51:48,375 - INFO - 清理空key: 删除了 0 个空key\n",
      "2025-09-29 17:51:48,375 - INFO - 哈希桶更新完成:\n",
      "2025-09-29 17:51:48,376 - INFO -   📊 Key数量: 0 → 0\n",
      "2025-09-29 17:51:48,376 - INFO -   📦 元素总数: 0 → 0\n",
      "2025-09-29 17:51:48,376 - INFO -   🗑️  删除空key: 0\n"
     ]
    },
    {
     "name": "stdout",
     "output_type": "stream",
     "text": [
      "当前哈希桶状态:\n",
      "  📦 总元素数: 0\n",
      "  🔑 总key数: 0\n",
      "  📊 分布情况:\n",
      "\n",
      "更新分析:\n",
      "Number of deleted keys: 0\n",
      "Number of deleted elements: 0\n",
      "Number of remaining keys: 0\n"
     ]
    }
   ],
   "source": [
    "from hashbacket import *\n",
    "from pprint import pprint\n",
    "import os\n",
    "\n",
    "def update_info(update_stats):\n",
    "    print(\"\\n更新分析:\")\n",
    "    print(f\"Number of deleted keys: {update_stats['changes']['keys_removed']}\")\n",
    "    print(f\"Number of deleted elements: {update_stats['changes']['items_removed']}\")\n",
    "    print(f\"Number of remaining keys: {update_stats['after']['total_keys']}\")    \n",
    "\n",
    "if __name__ == \"__main__\":\n",
    "    #ZXW_MODIFY\n",
    "    # input_file = \"token_info_v2_vqa_5500k_s16k.txt\"\n",
    "    input_file = \"token_info_captions.txt\"\n",
    "    bins_boxs = []\n",
    "    if not os.path.exists(input_file):\n",
    "        print(f\"File {input_file} does not exist！\")\n",
    "        assert input_file, f\"File {input_file} does not exist！\"\n",
    "    else:\n",
    "        processor = HashBucketProcessor(input_file)\n",
    "        processor.build_buckets()\n",
    "        processor.summary()\n",
    "        # processor.print_example(8192)\n",
    "\n",
    "        # capacity = 16384\n",
    "        capacity = 8192    #ZXW_MODIFY\n",
    "        processor.find_items(capacity)  # 寻找 capacity//2 的key\n",
    "        processor.summary()\n",
    "    print(\"=====================\"*8)    \n",
    "    initial_summary = processor.get_hash_buckets_summary()\n",
    "    print(\"-------------------- initial_summary ----------------------\")\n",
    "    pprint(initial_summary)\n",
    "\n",
    "    # build tracker\n",
    "    tracker = PackingTracker(processor)\n",
    "    # Round 1,  process samples with a token count of {2^n | n ∈ [0, N]\\}\n",
    "    bin_boxs_001 = tracker.track_packing('pack_with_deletion', box_capacity=8192)\n",
    "    update_stats = processor.update_hash_buckets(remove_empty=True, verbose=True)\n",
    "    update_info(update_stats)\n",
    "\n",
    "    # Round 2, packing with seeds big than `custom_hal=4096`\n",
    "    bin_boxs_002 = tracker.track_packing('pack_with_flexible_seeds',\n",
    "                                        box_capacity=8192,\n",
    "                                        seed_strategy=\"custom_half\",\n",
    "                                        seed_params={\"half\": 4096},  \n",
    "                                        min_items=5,\n",
    "                                        min_ratio=0.95,\n",
    "                                        max_workers = os.cpu_count(),\n",
    "                                        )\n",
    "    update_stats = processor.update_hash_buckets(remove_empty=True, verbose=True)\n",
    "    update_info(update_stats)\n",
    "\n",
    "    # Round 3, packing with seeds big than `custom_hal=7000`.\n",
    "        # Note, in round 2, some big items are left because min_items=5. We fixed it with min_items=1.\n",
    "    bin_boxs_003 = tracker.track_packing('pack_with_flexible_seeds',\n",
    "                                        box_capacity=8192,\n",
    "                                        seed_strategy=\"custom_half\",\n",
    "                                        seed_params={\"half\": 7000},  \n",
    "                                        min_items=1,\n",
    "                                        min_ratio=0.94,\n",
    "                                        max_workers = os.cpu_count(),\n",
    "                                        )\n",
    "    update_stats = processor.update_hash_buckets(remove_empty=True, verbose=True)\n",
    "    update_info(update_stats)\n",
    "\n",
    "    # Round 4, packing with seeds, key > `custom_hal=2000`.\n",
    "    bin_boxs_004 = tracker.track_packing('pack_with_flexible_seeds',\n",
    "                                        box_capacity=8192,\n",
    "                                        seed_strategy=\"custom_half\",\n",
    "                                        seed_params={\"half\": 2000},  \n",
    "                                        min_items=4,\n",
    "                                        min_ratio=0.94,\n",
    "                                        max_workers = os.cpu_count(),\n",
    "                                        )\n",
    "    update_stats = processor.update_hash_buckets(remove_empty=True, verbose=True)\n",
    "    update_info(update_stats)\n",
    "\n",
    "    # Round 5, packing with seeds, top n keys\n",
    "    bin_boxs_005 = tracker.track_packing('pack_with_flexible_seeds',\n",
    "                                        box_capacity=8192,\n",
    "                                        seed_strategy=\"top_n\",\n",
    "                                        seed_params={\"n\": 60}, # 1 for 16384  \n",
    "                                        min_items=6,\n",
    "                                        min_ratio=0.92,\n",
    "                                        max_workers = os.cpu_count(),\n",
    "                                        )\n",
    "    update_stats = processor.update_hash_buckets(remove_empty=True, verbose=True)\n",
    "    update_info(update_stats)\n",
    "\n",
    "    # Round 6, packing with seeds, top n keys\n",
    "    bin_boxs_006 = tracker.track_packing('pack_with_flexible_seeds',\n",
    "                                        box_capacity=8192,\n",
    "                                        seed_strategy=\"top_n\",\n",
    "                                        seed_params={\"n\": 50}, # 1 for 16384  \n",
    "                                        min_items=6,\n",
    "                                        min_ratio=0.92,\n",
    "                                        max_workers = os.cpu_count(),\n",
    "                                        )\n",
    "    update_stats = processor.update_hash_buckets(remove_empty=True, verbose=True)\n",
    "    update_info(update_stats)\n",
    "    \n",
    "\n",
    "    all_rems=[(k,len(processor.hash_buckets[k])) for k in processor.hash_buckets]\n",
    "    x_values = [item[0] for item in all_rems]\n",
    "    y_values = [item[1] for item in all_rems]\n",
    "    bin_boxs_007 = tracker.track_packing('pack_simplest_strategy',\n",
    "                                             box_capacity=8192,\n",
    "                                             keys= x_values,\n",
    "                                             m = sum(y_values)//50,  \n",
    "                                             min_ratio=0.92,\n",
    "                                             max_workers = os.cpu_count(),\n",
    "                                            )\n",
    "    update_stats = processor.update_hash_buckets(remove_empty=True, verbose=True)\n",
    "    update_info(update_stats)\n"
   ]
  },
  {
   "cell_type": "code",
   "execution_count": 15,
   "id": "c8c938fd-4392-4e04-9d6e-d48f3607cb54",
   "metadata": {},
   "outputs": [],
   "source": [
    "bins_boxs.extend(bin_boxs_001)\n",
    "bins_boxs.extend(bin_boxs_002)\n",
    "bins_boxs.extend(bin_boxs_003)\n",
    "bins_boxs.extend(bin_boxs_004)\n",
    "bins_boxs.extend(bin_boxs_005)\n",
    "bins_boxs.extend(bin_boxs_006)\n",
    "bins_boxs.extend(bin_boxs_007)"
   ]
  },
  {
   "cell_type": "code",
   "execution_count": 17,
   "id": "f220f5e1-bfde-4396-9164-1da08f3a4abc",
   "metadata": {},
   "outputs": [
    {
     "name": "stdout",
     "output_type": "stream",
     "text": [
      "已保存装箱结果到 ./s2_ckpt/bins_boxs_emova_captions_8k.pkl\n"
     ]
    }
   ],
   "source": [
    "save_bin_boxes(bins_boxs, \"./s2_ckpt/bins_boxs_emova_captions_8k.pkl\")"
   ]
  },
  {
   "cell_type": "code",
   "execution_count": 10,
   "id": "ef2012a8-8315-48e3-9511-51840e083eb5",
   "metadata": {},
   "outputs": [],
   "source": []
  },
  {
   "cell_type": "code",
   "execution_count": 19,
   "id": "20423eb0-f474-4c8c-bed6-4d4982f637ef",
   "metadata": {},
   "outputs": [
    {
     "name": "stdout",
     "output_type": "stream",
     "text": [
      "\n",
      "=== 装箱操作历史 ===\n",
      "\n",
      "操作 1: pack_with_deletion\n",
      "参数: {'box_capacity': 8192}\n",
      "装箱数: 59\n",
      "使用元素: 1825\n",
      "成功率: 100.0% (59/59)\n",
      "\n",
      "操作 2: pack_with_flexible_seeds\n",
      "参数: {'box_capacity': 8192, 'seed_strategy': 'custom_half', 'seed_params': {'half': 4096}, 'min_items': 5, 'min_ratio': 0.95, 'max_workers': 128}\n",
      "装箱数: 10133\n",
      "使用元素: 63823\n",
      "成功率: 100.0% (10133/10133)\n",
      "\n",
      "操作 3: pack_with_flexible_seeds\n",
      "参数: {'box_capacity': 8192, 'seed_strategy': 'custom_half', 'seed_params': {'half': 7000}, 'min_items': 1, 'min_ratio': 0.94, 'max_workers': 128}\n",
      "装箱数: 18\n",
      "使用元素: 35\n",
      "成功率: 100.0% (18/18)\n",
      "\n",
      "操作 4: pack_with_flexible_seeds\n",
      "参数: {'box_capacity': 8192, 'seed_strategy': 'custom_half', 'seed_params': {'half': 2000}, 'min_items': 4, 'min_ratio': 0.94, 'max_workers': 128}\n",
      "装箱数: 16313\n",
      "使用元素: 113138\n",
      "成功率: 100.0% (16313/16313)\n",
      "\n",
      "操作 5: pack_with_flexible_seeds\n",
      "参数: {'box_capacity': 8192, 'seed_strategy': 'top_n', 'seed_params': {'n': 60}, 'min_items': 6, 'min_ratio': 0.92, 'max_workers': 128}\n",
      "装箱数: 7078\n",
      "使用元素: 56624\n",
      "成功率: 100.0% (7078/7078)\n",
      "\n",
      "操作 6: pack_with_flexible_seeds\n",
      "参数: {'box_capacity': 8192, 'seed_strategy': 'top_n', 'seed_params': {'n': 50}, 'min_items': 6, 'min_ratio': 0.92, 'max_workers': 128}\n",
      "装箱数: 992\n",
      "使用元素: 7936\n",
      "成功率: 100.0% (992/992)\n",
      "\n",
      "操作 7: pack_simplest_strategy\n",
      "参数: {'box_capacity': 8192, 'keys': [881, 882, 883, 884, 885, 886, 887, 888, 889, 890, 891, 892, 893, 894, 895, 896, 897, 898, 899, 900, 901, 902, 903, 904, 905, 906, 907, 908, 909, 910, 911, 912, 913, 914, 915, 916, 917, 918, 919, 920, 921, 922, 923, 924, 925, 926, 927, 928, 929, 930, 931, 932, 933, 934, 935, 936, 937, 938, 939, 940, 941, 942, 943, 944, 945, 946, 947, 948, 949, 950, 951, 952, 953, 954, 955, 956, 957, 958, 959, 960, 961, 962, 963, 964, 965, 966, 967, 968, 969, 970, 971, 972, 973, 974, 975, 976, 977, 978, 979, 980, 981, 982, 983, 984, 985, 986, 987, 988, 989, 990, 991, 992, 993, 994, 995, 996, 997, 998, 999, 1000, 1001, 1002, 1003, 1004, 1005, 1006, 1007, 1008, 1009, 1010, 1011, 1012, 1013, 1014, 1015, 1016, 1017, 1018, 1019, 1020, 1021, 1022, 1023, 1025, 1026, 1027, 1028, 1029, 1030, 1031, 1032, 1033, 1034, 1035, 1036, 1037, 1038, 1039, 1040, 1041, 1042, 1043, 1044, 1045, 1046, 1047, 1048, 1049, 1050, 1051, 1052, 1053, 1054, 1055, 1056, 1057, 1058, 1059, 1060, 1061, 1062, 1063, 1064, 1065, 1066, 1067, 1068, 1069, 1070, 1071, 1072, 1073, 1074, 1075, 1076, 1077, 1078, 1079, 1080, 1081, 1082, 1083, 1084, 1085, 1086, 1087, 1088, 1089, 1090, 1091, 1092, 1093, 1094, 1095, 1096, 1097, 1098, 1099, 1100, 1101, 1102, 1103, 1104, 1105, 1106, 1107, 1108, 1109, 1110, 1111, 1112, 1113, 1114, 1115, 1116, 1117, 1118, 1119, 1120, 1121, 1122, 1123, 1124, 1125, 1126, 1127, 1128, 1129, 1130, 1131, 1132, 1133, 1134, 1135, 1136, 1137, 1138, 1139, 1140, 1141, 1142, 1143, 1144, 1145, 1146, 1147, 1148, 1149, 1150, 1151, 1152, 1153, 1164, 1165, 1167, 1168, 1169, 1170, 1171, 1172, 1173, 1174, 1175, 1176, 1177, 1178, 1179, 1180, 1181, 1182, 1183, 1184, 1185, 1186, 1187, 1188, 1189, 1190, 1191, 1192, 1193, 1194, 1234, 1235, 1236, 1237, 1238, 1239, 1240, 1241, 1242, 1243, 1244, 1245, 1246, 1247, 1248, 1249, 1250, 1251, 1252, 1253, 1254, 1255, 1256, 1257, 1258, 1259, 1260, 1261, 1262, 1263, 1264, 1265, 1266, 1267, 1268, 1269, 1270, 1271, 1272, 1273, 1274, 1275, 1276, 1277, 1278, 1279, 1280, 1281, 1282, 1283, 1284, 1285, 1286, 1287, 1288, 1289, 1290, 1291, 1292, 1293, 1294, 1295, 1296, 1297, 1298, 1299, 1300, 1301, 1302, 1303, 1304, 1305, 1306, 1307, 1308, 1309, 1310, 1311, 1312, 1313, 1314, 1315, 1316, 1317, 1318, 1319, 1320, 1329, 1330, 1331, 1332, 1333, 1334, 1335, 1336, 1337, 1338, 1339, 1340, 1341, 1342, 1343, 1344, 1345, 1346, 1347, 1348, 1349, 1350, 1351, 1352, 1353, 1354, 1355, 1356, 1357, 1358, 1359, 1360, 1361, 1362, 1363, 1364, 1365, 1366, 1367, 1368, 1369, 1370, 1371], 'm': 1131, 'min_ratio': 0.92, 'max_workers': 128}\n",
      "装箱数: 8112\n",
      "使用元素: 56599\n",
      "成功率: 100.0% (8112/8112)\n"
     ]
    }
   ],
   "source": [
    "tracker.print_summary() "
   ]
  },
  {
   "cell_type": "markdown",
   "id": "be2405f5-258d-4dd5-8e60-bb0c2142c29d",
   "metadata": {
    "jp-MarkdownHeadingCollapsed": true
   },
   "source": [
    "### hash_buckets‘s element distribution"
   ]
  },
  {
   "cell_type": "code",
   "execution_count": 2,
   "id": "c738ea88-1085-42c1-ab9f-81f60ee2c405",
   "metadata": {
    "scrolled": true
   },
   "outputs": [
    {
     "data": {
      "image/png": "[encoded data removed]",
      "text/plain": [
       "<Figure size 1000x600 with 1 Axes>"
      ]
     },
     "metadata": {},
     "output_type": "display_data"
    }
   ],
   "source": [
    "import matplotlib.pyplot as plt\n",
    "import numpy as np\n",
    "\n",
    "all_rems=[(k,len(processor.hash_buckets[k])) for k in processor.hash_buckets]\n",
    "import matplotlib.pyplot as plt\n",
    "\n",
    "# Assuming allrems is a list of lists where each sublist contains [x, y]\n",
    "# Extract x and y values\n",
    "x_values = [item[0] for item in all_rems]\n",
    "y_values = [item[1] for item in all_rems]\n",
    "\n",
    "# Define the number of bins\n",
    "num_bins = 10\n",
    "\n",
    "# Create bins based on x values\n",
    "bins = np.linspace(min(x_values), max(x_values), num_bins + 1)\n",
    "\n",
    "# Calculate sum of y values for each bin\n",
    "bin_indices = np.digitize(x_values, bins) - 1\n",
    "bin_sums = np.zeros(num_bins)\n",
    "for i in range(len(x_values)):\n",
    "    if 0 <= bin_indices[i] < num_bins:\n",
    "        bin_sums[bin_indices[i]] += y_values[i]\n",
    "\n",
    "# Create the histogram\n",
    "plt.figure(figsize=(10, 6))\n",
    "bars = plt.bar(bins[:-1], bin_sums, width=np.diff(bins), edgecolor='black', align='edge')\n",
    "\n",
    "# Add labels on top of each bar showing the sum\n",
    "for bar, sum_val in zip(bars, bin_sums):\n",
    "    plt.text(bar.get_x() + bar.get_width()/2, bar.get_height(), \n",
    "             f'{sum_val:.1f}', ha='center', va='bottom')\n",
    "\n",
    "plt.xlabel('X Values')\n",
    "plt.ylabel('Sum of Y Values')\n",
    "plt.title('Histogram of Y Value Sums by X Range')\n",
    "plt.grid(True, alpha=0.3)\n",
    "plt.show()"
   ]
  },
  {
   "cell_type": "markdown",
   "id": "8dc0aa39-555d-4e87-ba12-21a9edc16eea",
   "metadata": {},
   "source": [
    "#### scatter"
   ]
  },
  {
   "cell_type": "code",
   "execution_count": 3,
   "id": "545c927b-fd2d-4034-b838-80456759aa15",
   "metadata": {},
   "outputs": [
    {
     "data": {
      "image/png": "[encoded data removed]",
      "text/plain": [
       "<Figure size 1000x600 with 1 Axes>"
      ]
     },
     "metadata": {},
     "output_type": "display_data"
    }
   ],
   "source": [
    "plt.figure(figsize=(10, 6))  # 设置图形大小（可选）\n",
    "\n",
    "# 绘制散点图（推荐用于观察分布）\n",
    "plt.scatter(x_values, y_values, s=10)  # s 控制点的大小\n",
    "\n",
    "# 或者绘制折线图（如果数据有序）\n",
    "# plt.plot(x_values, y_values)\n",
    "\n",
    "# 添加标签和标题\n",
    "plt.xlabel('X(1st column)')\n",
    "plt.ylabel('Y(2nd column)')\n",
    "plt.title('X vs Y scatter')\n",
    "\n",
    "# 显示网格（可选）\n",
    "plt.grid(True, linestyle='--', alpha=0.7)\n",
    "\n",
    "# 显示图形\n",
    "plt.show()"
   ]
  },
  {
   "cell_type": "markdown",
   "id": "938f6254-81f9-4e6b-98fa-92b2a87108cc",
   "metadata": {},
   "source": [
    "####"
   ]
  },
  {
   "cell_type": "markdown",
   "id": "01e4a005-be79-4252-8826-88375bd2b343",
   "metadata": {},
   "source": [
    "### Step2-2"
   ]
  },
  {
   "cell_type": "code",
   "execution_count": null,
   "id": "3ba52d7a-2a2b-44b5-9a75-fa2c60d6bc36",
   "metadata": {},
   "outputs": [],
   "source": [
    "!python -u s2_prepare_rawsamples-emova_captions_pretrain_300k-8k.py 2>&1 | tee ./logs/s2_proc_emova_captions_pretrain_300k-8k.log"
   ]
  },
  {
   "cell_type": "code",
   "execution_count": null,
   "id": "6bf1d1a2-c779-43d9-a7ac-72287d4956d2",
   "metadata": {},
   "outputs": [],
   "source": []
  },
  {
   "cell_type": "code",
   "execution_count": null,
   "id": "0dd67ea9-a0c5-405e-8a26-2ddb7744bb49",
   "metadata": {},
   "outputs": [],
   "source": []
  },
  {
   "cell_type": "code",
   "execution_count": null,
   "id": "a31d3815-9a55-43e5-afa5-b0f3c1a53426",
   "metadata": {},
   "outputs": [],
   "source": []
  },
  {
   "cell_type": "code",
   "execution_count": null,
   "id": "7a3f1a4a-c8a6-4473-9775-3e99f18345b6",
   "metadata": {},
   "outputs": [],
   "source": []
  },
  {
   "cell_type": "code",
   "execution_count": null,
   "id": "e7ae8a18-2064-4c7a-9e6e-dada91692776",
   "metadata": {},
   "outputs": [],
   "source": []
  },
  {
   "cell_type": "code",
   "execution_count": null,
   "id": "88b9a9c1-6ece-4182-8f24-ac16b68f5dc2",
   "metadata": {},
   "outputs": [],
   "source": []
  },
  {
   "cell_type": "code",
   "execution_count": null,
   "id": "35353863-7960-40e0-a0b5-6e9723b77186",
   "metadata": {},
   "outputs": [],
   "source": []
  },
  {
   "cell_type": "code",
   "execution_count": null,
   "id": "11fb49eb-4dba-4fda-abdd-b0382e79dcd0",
   "metadata": {},
   "outputs": [],
   "source": []
  }
 ],
 "metadata": {
  "kernelspec": {
   "display_name": "Python 3 (ipykernel)",
   "language": "python",
   "name": "python3"
  },
  "language_info": {
   "codemirror_mode": {
    "name": "ipython",
    "version": 3
   },
   "file_extension": ".py",
   "mimetype": "text/x-python",
   "name": "python",
   "nbconvert_exporter": "python",
   "pygments_lexer": "ipython3",
   "version": "3.12.3"
  }
 },
 "nbformat": 4,
 "nbformat_minor": 5
}
